{
 "cells": [
  {
   "cell_type": "code",
   "execution_count": null,
   "metadata": {},
   "outputs": [],
   "source": [
    "from lotsofdots import Lots_Of_Dots\n",
    "\n",
    "u = input('Enter the pole you want to draw (separate them with monospace, ex:1 0 0):')\n",
    "num = int(input('Enter the Maximum indices:'))\n",
    "user = list(map(int, u.split()))\n",
    "\n",
    "a = Lots_Of_Dots([1,1,0])\n",
    "a.dot_create(num)\n",
    "p = a.dot111()\n",
    "\n",
    "b = Lots_Of_Dots([1,0,0])\n",
    "b.dot_create(num)\n",
    "q = b.dot111()\n",
    "\n",
    "c = Lots_Of_Dots([1,1,1])\n",
    "c.dot_create(num)\n",
    "r = c.dot111()\n",
    "\n",
    "d = Lots_Of_Dots(user)\n",
    "d.dot_create(num)\n",
    "s = d.dot111()\n",
    "\n",
    "#----------------------\n",
    "\n",
    "\n",
    "%matplotlib inline\n",
    "import matplotlib.pyplot as plt\n",
    "import numpy as np\n",
    "from mpl_toolkits.mplot3d import Axes3D\n",
    "fig = plt.figure()\n",
    "ax = Axes3D(fig)\n",
    "\n",
    "#----------------------\n",
    "LIM = 1\n",
    "plt.title('(111) stereographic projection')\n",
    "ax.figure.set_size_inches(8, 8)\n",
    "ax.set_zlim(bottom=-LIM,top=LIM)\n",
    "ax.set_ylim(bottom=-LIM,top=LIM)\n",
    "ax.set_xlim(left=-LIM,right=LIM)\n",
    "ax.set_xticks([-1,0,1])\n",
    "ax.set_yticks([-1,0,1])\n",
    "ax.set_zticks([-1,0,1])\n",
    "ax.view_init(elev=45,azim=45)\n",
    "#----------------------\n",
    "\n",
    "\n",
    "ax.scatter(q[:,0], q[:,1], q[:,2], label='1 0 0')\n",
    "ax.scatter(p[:,0], p[:,1], p[:,2], label='1 1 0')\n",
    "ax.scatter(r[:,0], r[:,1], r[:,2], label='1 1 1')\n",
    "ax.scatter(s[:,0], s[:,1], s[:,2], label=u)\n",
    "ax.legend()\n",
    "\n",
    "for i in range (len(p)):\n",
    "    x, y, z = p[i][0], p[i][1], p[i][2]\n",
    "    ax.text(x, y, z, f'{a.td[i][0]} {a.td[i][1]} {a.td[i][2]}')\n",
    "\n",
    "\n",
    "for i in range (len(q)):\n",
    "    x, y, z = q[i][0], q[i][1], q[i][2]\n",
    "    ax.text(x, y, z, f'{b.td[i][0]} {b.td[i][1]} {b.td[i][2]}')\n",
    "    \n",
    "for i in range (len(r)):\n",
    "    x, y, z = r[i][0], r[i][1], r[i][2]\n",
    "    ax.text(x, y, z, f'{c.td[i][0]} {c.td[i][1]} {c.td[i][2]}')    \n",
    "\n",
    "for i in range (len(s)):\n",
    "    x, y, z = s[i][0], s[i][1], s[i][2]\n",
    "    ax.text(x, y, z, f'{d.td[i][0]} {d.td[i][1]} {d.td[i][2]}')  "
   ]
  },
  {
   "cell_type": "code",
   "execution_count": null,
   "metadata": {},
   "outputs": [],
   "source": [
    "ax.figure.savefig('pro111(1).png')"
   ]
  },
  {
   "cell_type": "code",
   "execution_count": null,
   "metadata": {},
   "outputs": [],
   "source": []
  }
 ],
 "metadata": {
  "kernelspec": {
   "display_name": "Python 3",
   "language": "python",
   "name": "python3"
  },
  "language_info": {
   "codemirror_mode": {
    "name": "ipython",
    "version": 3
   },
   "file_extension": ".py",
   "mimetype": "text/x-python",
   "name": "python",
   "nbconvert_exporter": "python",
   "pygments_lexer": "ipython3",
   "version": "3.7.4"
  }
 },
 "nbformat": 4,
 "nbformat_minor": 4
}
